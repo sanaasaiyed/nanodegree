{
  "nbformat": 4,
  "nbformat_minor": 0,
  "metadata": {
    "colab": {
      "name": "Data Homework 1.ipynb",
      "provenance": [],
      "collapsed_sections": [],
      "authorship_tag": "ABX9TyM75sw9RApYUpCizTYo+dIr",
      "include_colab_link": true
    },
    "kernelspec": {
      "name": "python3",
      "display_name": "Python 3"
    },
    "language_info": {
      "name": "python"
    }
  },
  "cells": [
    {
      "cell_type": "markdown",
      "metadata": {
        "id": "view-in-github",
        "colab_type": "text"
      },
      "source": [
        "<a href=\"https://colab.research.google.com/github/sanaasaiyed/nanodegree/blob/main/StocksAPI.ipynb\" target=\"_parent\"><img src=\"https://colab.research.google.com/assets/colab-badge.svg\" alt=\"Open In Colab\"/></a>"
      ]
    },
    {
      "cell_type": "code",
      "source": [
        "!pip install --upgrade pandas\n",
        "!pip install --upgrade pandas-datareader\n",
        "!pip install yfinance"
      ],
      "metadata": {
        "id": "vn-DwGKQE-SF",
        "colab": {
          "base_uri": "https://localhost:8080/"
        },
        "outputId": "4c12bc25-52be-4a0d-9501-5341dd0deffd"
      },
      "execution_count": null,
      "outputs": [
        {
          "output_type": "stream",
          "name": "stdout",
          "text": [
            "Looking in indexes: https://pypi.org/simple, https://us-python.pkg.dev/colab-wheels/public/simple/\n",
            "Requirement already satisfied: pandas in /usr/local/lib/python3.7/dist-packages (1.3.5)\n",
            "Requirement already satisfied: python-dateutil>=2.7.3 in /usr/local/lib/python3.7/dist-packages (from pandas) (2.8.2)\n",
            "Requirement already satisfied: numpy>=1.17.3 in /usr/local/lib/python3.7/dist-packages (from pandas) (1.21.6)\n",
            "Requirement already satisfied: pytz>=2017.3 in /usr/local/lib/python3.7/dist-packages (from pandas) (2022.1)\n",
            "Requirement already satisfied: six>=1.5 in /usr/local/lib/python3.7/dist-packages (from python-dateutil>=2.7.3->pandas) (1.15.0)\n",
            "Looking in indexes: https://pypi.org/simple, https://us-python.pkg.dev/colab-wheels/public/simple/\n",
            "Requirement already satisfied: pandas-datareader in /usr/local/lib/python3.7/dist-packages (0.9.0)\n",
            "Collecting pandas-datareader\n",
            "  Downloading pandas_datareader-0.10.0-py3-none-any.whl (109 kB)\n",
            "\u001b[K     |████████████████████████████████| 109 kB 5.2 MB/s \n",
            "\u001b[?25hRequirement already satisfied: pandas>=0.23 in /usr/local/lib/python3.7/dist-packages (from pandas-datareader) (1.3.5)\n",
            "Requirement already satisfied: requests>=2.19.0 in /usr/local/lib/python3.7/dist-packages (from pandas-datareader) (2.23.0)\n",
            "Requirement already satisfied: lxml in /usr/local/lib/python3.7/dist-packages (from pandas-datareader) (4.2.6)\n",
            "Requirement already satisfied: numpy>=1.17.3 in /usr/local/lib/python3.7/dist-packages (from pandas>=0.23->pandas-datareader) (1.21.6)\n",
            "Requirement already satisfied: python-dateutil>=2.7.3 in /usr/local/lib/python3.7/dist-packages (from pandas>=0.23->pandas-datareader) (2.8.2)\n",
            "Requirement already satisfied: pytz>=2017.3 in /usr/local/lib/python3.7/dist-packages (from pandas>=0.23->pandas-datareader) (2022.1)\n",
            "Requirement already satisfied: six>=1.5 in /usr/local/lib/python3.7/dist-packages (from python-dateutil>=2.7.3->pandas>=0.23->pandas-datareader) (1.15.0)\n",
            "Requirement already satisfied: certifi>=2017.4.17 in /usr/local/lib/python3.7/dist-packages (from requests>=2.19.0->pandas-datareader) (2022.6.15)\n",
            "Requirement already satisfied: urllib3!=1.25.0,!=1.25.1,<1.26,>=1.21.1 in /usr/local/lib/python3.7/dist-packages (from requests>=2.19.0->pandas-datareader) (1.24.3)\n",
            "Requirement already satisfied: chardet<4,>=3.0.2 in /usr/local/lib/python3.7/dist-packages (from requests>=2.19.0->pandas-datareader) (3.0.4)\n",
            "Requirement already satisfied: idna<3,>=2.5 in /usr/local/lib/python3.7/dist-packages (from requests>=2.19.0->pandas-datareader) (2.10)\n",
            "Installing collected packages: pandas-datareader\n",
            "  Attempting uninstall: pandas-datareader\n",
            "    Found existing installation: pandas-datareader 0.9.0\n",
            "    Uninstalling pandas-datareader-0.9.0:\n",
            "      Successfully uninstalled pandas-datareader-0.9.0\n",
            "Successfully installed pandas-datareader-0.10.0\n",
            "Looking in indexes: https://pypi.org/simple, https://us-python.pkg.dev/colab-wheels/public/simple/\n",
            "Collecting yfinance\n",
            "  Downloading yfinance-0.1.74-py2.py3-none-any.whl (27 kB)\n",
            "Requirement already satisfied: pandas>=0.24.0 in /usr/local/lib/python3.7/dist-packages (from yfinance) (1.3.5)\n",
            "Collecting requests>=2.26\n",
            "  Downloading requests-2.28.1-py3-none-any.whl (62 kB)\n",
            "\u001b[K     |████████████████████████████████| 62 kB 870 kB/s \n",
            "\u001b[?25hRequirement already satisfied: multitasking>=0.0.7 in /usr/local/lib/python3.7/dist-packages (from yfinance) (0.0.11)\n",
            "Requirement already satisfied: numpy>=1.15 in /usr/local/lib/python3.7/dist-packages (from yfinance) (1.21.6)\n",
            "Collecting lxml>=4.5.1\n",
            "  Downloading lxml-4.9.1-cp37-cp37m-manylinux_2_17_x86_64.manylinux2014_x86_64.manylinux_2_24_x86_64.whl (6.4 MB)\n",
            "\u001b[K     |████████████████████████████████| 6.4 MB 27.0 MB/s \n",
            "\u001b[?25hRequirement already satisfied: python-dateutil>=2.7.3 in /usr/local/lib/python3.7/dist-packages (from pandas>=0.24.0->yfinance) (2.8.2)\n",
            "Requirement already satisfied: pytz>=2017.3 in /usr/local/lib/python3.7/dist-packages (from pandas>=0.24.0->yfinance) (2022.1)\n",
            "Requirement already satisfied: six>=1.5 in /usr/local/lib/python3.7/dist-packages (from python-dateutil>=2.7.3->pandas>=0.24.0->yfinance) (1.15.0)\n",
            "Requirement already satisfied: certifi>=2017.4.17 in /usr/local/lib/python3.7/dist-packages (from requests>=2.26->yfinance) (2022.6.15)\n",
            "Requirement already satisfied: urllib3<1.27,>=1.21.1 in /usr/local/lib/python3.7/dist-packages (from requests>=2.26->yfinance) (1.24.3)\n",
            "Requirement already satisfied: idna<4,>=2.5 in /usr/local/lib/python3.7/dist-packages (from requests>=2.26->yfinance) (2.10)\n",
            "Requirement already satisfied: charset-normalizer<3,>=2 in /usr/local/lib/python3.7/dist-packages (from requests>=2.26->yfinance) (2.1.0)\n",
            "Installing collected packages: requests, lxml, yfinance\n",
            "  Attempting uninstall: requests\n",
            "    Found existing installation: requests 2.23.0\n",
            "    Uninstalling requests-2.23.0:\n",
            "      Successfully uninstalled requests-2.23.0\n",
            "  Attempting uninstall: lxml\n",
            "    Found existing installation: lxml 4.2.6\n",
            "    Uninstalling lxml-4.2.6:\n",
            "      Successfully uninstalled lxml-4.2.6\n",
            "\u001b[31mERROR: pip's dependency resolver does not currently take into account all the packages that are installed. This behaviour is the source of the following dependency conflicts.\n",
            "google-colab 1.0.0 requires requests~=2.23.0, but you have requests 2.28.1 which is incompatible.\n",
            "datascience 0.10.6 requires folium==0.2.1, but you have folium 0.8.3 which is incompatible.\u001b[0m\n",
            "Successfully installed lxml-4.9.1 requests-2.28.1 yfinance-0.1.74\n"
          ]
        }
      ]
    },
    {
      "cell_type": "code",
      "source": [
        "from pandas_datareader import data\n",
        "import matplotlib.pyplot as plt\n",
        "import pandas as pd\n",
        "import csv\n"
      ],
      "metadata": {
        "id": "A_TPDSeuDvdh"
      },
      "execution_count": null,
      "outputs": []
    },
    {
      "cell_type": "markdown",
      "source": [
        "Using any finance API (we use Yahoo Finance and Tiingo during sessions) download historical\n",
        "stock prices for Google (symbol ‘GOOG’), for the period 1 Jan 2020 to 1 Jan 2021."
      ],
      "metadata": {
        "id": "w7qDDhr0F1gQ"
      }
    },
    {
      "cell_type": "code",
      "source": [
        "import yfinance as yf\n",
        "\n",
        "goog = yf.Ticker(\"goog\")\n",
        "\n",
        "# get stock info\n",
        "goog.info\n",
        "\n",
        "# get historical market data\n",
        "\n",
        "data = yf.download(\"goog\", start=\"2020-01-01\", end=\"2021-01-01\")\n",
        "print(data)"
      ],
      "metadata": {
        "id": "FVfTD0VQBPow",
        "colab": {
          "base_uri": "https://localhost:8080/"
        },
        "outputId": "ac4172db-165f-4f16-ab49-9ff1ba036b68"
      },
      "execution_count": null,
      "outputs": [
        {
          "output_type": "stream",
          "name": "stdout",
          "text": [
            "\r[*********************100%***********************]  1 of 1 completed\n",
            "                 Open       High        Low      Close  Adj Close    Volume\n",
            "Date                                                                       \n",
            "2020-01-02  67.077499  68.406998  67.077499  68.368500  68.368500  28132000\n",
            "2020-01-03  67.392998  68.625000  67.277199  68.032997  68.032997  23728000\n",
            "2020-01-06  67.500000  69.824997  67.500000  69.710503  69.710503  34646000\n",
            "2020-01-07  69.897003  70.149498  69.518997  69.667000  69.667000  30054000\n",
            "2020-01-08  69.603996  70.579002  69.542000  70.216003  70.216003  30560000\n",
            "...               ...        ...        ...        ...        ...       ...\n",
            "2020-12-24  86.750000  87.300003  86.455498  86.942497  86.942497   6936000\n",
            "2020-12-28  87.581749  89.536400  87.316750  88.804497  88.804497  27860000\n",
            "2020-12-29  89.389503  89.622002  87.804497  87.935997  87.935997  25988000\n",
            "2020-12-30  88.100502  88.254753  86.279999  86.975998  86.975998  26122000\n",
            "2020-12-31  86.771004  87.946503  86.771004  87.594002  87.594002  20238000\n",
            "\n",
            "[253 rows x 6 columns]\n"
          ]
        }
      ]
    },
    {
      "cell_type": "markdown",
      "source": [
        "Save these prices to csv file with Pandas"
      ],
      "metadata": {
        "id": "1_rnaGD_F4mi"
      }
    },
    {
      "cell_type": "code",
      "source": [
        "df=data\n",
        "df.to_csv('googlestockprices.csv')"
      ],
      "metadata": {
        "id": "vHGhLN2XVa6L"
      },
      "execution_count": null,
      "outputs": []
    },
    {
      "cell_type": "markdown",
      "source": [
        "Read this csv file to display data saved."
      ],
      "metadata": {
        "id": "ummwbuI7F65K"
      }
    },
    {
      "cell_type": "code",
      "source": [
        "df = pd.read_csv (r'googlestockprices.csv')\n",
        "print (df)"
      ],
      "metadata": {
        "colab": {
          "base_uri": "https://localhost:8080/"
        },
        "id": "ifcnvSEbV6JA",
        "outputId": "1a429d19-b452-4e8b-bbc7-07446ef3c345"
      },
      "execution_count": null,
      "outputs": [
        {
          "output_type": "stream",
          "name": "stdout",
          "text": [
            "           Date       Open       High        Low      Close  Adj Close  \\\n",
            "0    2020-01-02  67.077499  68.406998  67.077499  68.368500  68.368500   \n",
            "1    2020-01-03  67.392998  68.625000  67.277199  68.032997  68.032997   \n",
            "2    2020-01-06  67.500000  69.824997  67.500000  69.710503  69.710503   \n",
            "3    2020-01-07  69.897003  70.149498  69.518997  69.667000  69.667000   \n",
            "4    2020-01-08  69.603996  70.579002  69.542000  70.216003  70.216003   \n",
            "..          ...        ...        ...        ...        ...        ...   \n",
            "248  2020-12-24  86.750000  87.300003  86.455498  86.942497  86.942497   \n",
            "249  2020-12-28  87.581749  89.536400  87.316750  88.804497  88.804497   \n",
            "250  2020-12-29  89.389503  89.622002  87.804497  87.935997  87.935997   \n",
            "251  2020-12-30  88.100502  88.254753  86.279999  86.975998  86.975998   \n",
            "252  2020-12-31  86.771004  87.946503  86.771004  87.594002  87.594002   \n",
            "\n",
            "       Volume  \n",
            "0    28132000  \n",
            "1    23728000  \n",
            "2    34646000  \n",
            "3    30054000  \n",
            "4    30560000  \n",
            "..        ...  \n",
            "248   6936000  \n",
            "249  27860000  \n",
            "250  25988000  \n",
            "251  26122000  \n",
            "252  20238000  \n",
            "\n",
            "[253 rows x 7 columns]\n"
          ]
        }
      ]
    },
    {
      "cell_type": "markdown",
      "source": [
        "Plot a simple diagram to display closing prices for GOOG stock."
      ],
      "metadata": {
        "id": "G8yTXhjXF8gH"
      }
    },
    {
      "cell_type": "code",
      "source": [
        "df[\"Close\"].plot(grid=True, )\n",
        "plt.show()"
      ],
      "metadata": {
        "colab": {
          "base_uri": "https://localhost:8080/",
          "height": 265
        },
        "id": "OU4UlEj-WyGr",
        "outputId": "0e19df6e-5425-4ba1-9200-cea01d96ca4d"
      },
      "execution_count": null,
      "outputs": [
        {
          "output_type": "display_data",
          "data": {
            "text/plain": [
              "<Figure size 432x288 with 1 Axes>"
            ],
            "image/png": "[encoded data removed]"
          },
          "metadata": {
            "needs_background": "light"
          }
        }
      ]
    },
    {
      "cell_type": "markdown",
      "source": [
        "## Task 2"
      ],
      "metadata": {
        "id": "qhlnto94XR38"
      }
    },
    {
      "cell_type": "code",
      "source": [
        "msft = yf.Ticker(\"msft\")\n",
        "\n",
        "# get stock info\n",
        "msft.info\n",
        "\n",
        "# get historical market data\n",
        "\n",
        "data = yf.download(\"msft\", start=\"2020-01-01\", end=\"2021-01-01\")\n",
        "print(data)\n",
        "\n",
        "df=data\n",
        "df.to_csv('msftstockprices.csv')\n",
        "\n",
        "df = pd.read_csv (r'msftstockprices.csv')\n",
        "print (df)\n",
        "\n",
        "df[\"Close\"].plot(grid=True, )\n",
        "plt.show()\n"
      ],
      "metadata": {
        "colab": {
          "base_uri": "https://localhost:8080/",
          "height": 1000
        },
        "id": "sqr0CSYnXTlp",
        "outputId": "258dab1b-65dc-4ff2-ed4b-54dd594ef259"
      },
      "execution_count": null,
      "outputs": [
        {
          "output_type": "stream",
          "name": "stdout",
          "text": [
            "\r[*********************100%***********************]  1 of 1 completed\n",
            "                  Open        High         Low       Close   Adj Close  \\\n",
            "Date                                                                     \n",
            "2020-01-02  158.779999  160.729996  158.330002  160.619995  156.924393   \n",
            "2020-01-03  158.320007  159.949997  158.059998  158.619995  154.970398   \n",
            "2020-01-06  157.080002  159.100006  156.509995  159.029999  155.370987   \n",
            "2020-01-07  159.320007  159.669998  157.320007  157.580002  153.954330   \n",
            "2020-01-08  158.929993  160.800003  157.949997  160.089996  156.406586   \n",
            "...                ...         ...         ...         ...         ...   \n",
            "2020-12-24  221.419998  223.610001  221.199997  222.750000  219.930298   \n",
            "2020-12-28  224.449997  226.029999  223.020004  224.960007  222.112335   \n",
            "2020-12-29  226.309998  227.179993  223.580002  224.149994  221.312592   \n",
            "2020-12-30  225.229996  225.630005  221.470001  221.679993  218.873840   \n",
            "2020-12-31  221.699997  223.000000  219.679993  222.419998  219.604477   \n",
            "\n",
            "              Volume  \n",
            "Date                  \n",
            "2020-01-02  22622100  \n",
            "2020-01-03  21116200  \n",
            "2020-01-06  20813700  \n",
            "2020-01-07  21634100  \n",
            "2020-01-08  27746500  \n",
            "...              ...  \n",
            "2020-12-24  10550600  \n",
            "2020-12-28  17933500  \n",
            "2020-12-29  17403200  \n",
            "2020-12-30  20272300  \n",
            "2020-12-31  20942100  \n",
            "\n",
            "[253 rows x 6 columns]\n",
            "           Date        Open        High         Low       Close   Adj Close  \\\n",
            "0    2020-01-02  158.779999  160.729996  158.330002  160.619995  156.924393   \n",
            "1    2020-01-03  158.320007  159.949997  158.059998  158.619995  154.970398   \n",
            "2    2020-01-06  157.080002  159.100006  156.509995  159.029999  155.370987   \n",
            "3    2020-01-07  159.320007  159.669998  157.320007  157.580002  153.954330   \n",
            "4    2020-01-08  158.929993  160.800003  157.949997  160.089996  156.406586   \n",
            "..          ...         ...         ...         ...         ...         ...   \n",
            "248  2020-12-24  221.419998  223.610001  221.199997  222.750000  219.930298   \n",
            "249  2020-12-28  224.449997  226.029999  223.020004  224.960007  222.112335   \n",
            "250  2020-12-29  226.309998  227.179993  223.580002  224.149994  221.312592   \n",
            "251  2020-12-30  225.229996  225.630005  221.470001  221.679993  218.873840   \n",
            "252  2020-12-31  221.699997  223.000000  219.679993  222.419998  219.604477   \n",
            "\n",
            "       Volume  \n",
            "0    22622100  \n",
            "1    21116200  \n",
            "2    20813700  \n",
            "3    21634100  \n",
            "4    27746500  \n",
            "..        ...  \n",
            "248  10550600  \n",
            "249  17933500  \n",
            "250  17403200  \n",
            "251  20272300  \n",
            "252  20942100  \n",
            "\n",
            "[253 rows x 7 columns]\n"
          ]
        },
        {
          "output_type": "display_data",
          "data": {
            "text/plain": [
              "<Figure size 432x288 with 1 Axes>"
            ],
            "image/png": "[encoded data removed]"
          },
          "metadata": {
            "needs_background": "light"
          }
        }
      ]
    }
  ]
}